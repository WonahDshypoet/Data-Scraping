{
 "cells": [
  {
   "cell_type": "code",
   "execution_count": 1,
   "id": "3a368596",
   "metadata": {},
   "outputs": [
    {
     "ename": "NameError",
     "evalue": "name 'urlopen' is not defined",
     "output_type": "error",
     "traceback": [
      "\u001b[31m---------------------------------------------------------------------------\u001b[39m",
      "\u001b[31mNameError\u001b[39m                                 Traceback (most recent call last)",
      "\u001b[36mCell\u001b[39m\u001b[36m \u001b[39m\u001b[32mIn[1]\u001b[39m\u001b[32m, line 17\u001b[39m\n\u001b[32m     13\u001b[39m      \u001b[38;5;28;01mfor\u001b[39;00m p \u001b[38;5;129;01min\u001b[39;00m paragraph:\n\u001b[32m     14\u001b[39m         master_list.append(p.text.strip())\n\u001b[32m---> \u001b[39m\u001b[32m17\u001b[39m \u001b[43mget_paragraph\u001b[49m\u001b[43m(\u001b[49m\u001b[43m)\u001b[49m\n\u001b[32m     19\u001b[39m df = pd.DataFrame(master_list)\n\u001b[32m     20\u001b[39m df.to_csv(\u001b[33m'\u001b[39m\u001b[33mmaster_list.csv\u001b[39m\u001b[33m'\u001b[39m)\n",
      "\u001b[36mCell\u001b[39m\u001b[36m \u001b[39m\u001b[32mIn[1]\u001b[39m\u001b[32m, line 9\u001b[39m, in \u001b[36mget_paragraph\u001b[39m\u001b[34m()\u001b[39m\n\u001b[32m      7\u001b[39m \u001b[38;5;28;01mdef\u001b[39;00m\u001b[38;5;250m \u001b[39m\u001b[34mget_paragraph\u001b[39m():\n\u001b[32m----> \u001b[39m\u001b[32m9\u001b[39m      html = \u001b[43murlopen\u001b[49m(\u001b[33m\"\u001b[39m\u001b[33mfile:///C:/Users/ASUS/Documents/wonah/wonah-web-developer/index.html\u001b[39m\u001b[33m\"\u001b[39m)\n\u001b[32m     10\u001b[39m      soup = BeautifulSoup(html, \u001b[33m\"\u001b[39m\u001b[33mhtml.parser\u001b[39m\u001b[33m\"\u001b[39m)\n\u001b[32m     11\u001b[39m      paragraph = soup.findAll(\u001b[33m'\u001b[39m\u001b[33mp\u001b[39m\u001b[33m'\u001b[39m)\u001b[38;5;66;03m#[-2].text.strip()\u001b[39;00m\n",
      "\u001b[31mNameError\u001b[39m: name 'urlopen' is not defined"
     ]
    }
   ],
   "source": [
    "import requests\n",
    "from bs4 import BeautifulSoup\n",
    "import pandas as pd\n",
    "\n",
    "master_list = []\n",
    "\n",
    "def get_paragraph():\n",
    "\n",
    "     html = urlopen(\"file:///C:/Users/ASUS/Documents/wonah/wonah-web-developer/index.html\")\n",
    "     soup = BeautifulSoup(html, \"html.parser\")\n",
    "     paragraph = soup.findAll('p')#[-2].text.strip()\n",
    "        \n",
    "     for p in paragraph:\n",
    "        master_list.append(p.text.strip())\n",
    "       \n",
    "    \n",
    "get_paragraph()\n",
    "\n",
    "df = pd.DataFrame(master_list)\n",
    "df.to_csv('master_list.csv')"
   ]
  },
  {
   "cell_type": "code",
   "execution_count": null,
   "id": "559c7ae0",
   "metadata": {
    "scrolled": true
   },
   "outputs": [],
   "source": [
    "import pandas as pd"
   ]
  },
  {
   "cell_type": "code",
   "execution_count": null,
   "id": "97d6313f",
   "metadata": {},
   "outputs": [],
   "source": [
    "df = pd.DataFrame(master_list)"
   ]
  },
  {
   "cell_type": "code",
   "execution_count": null,
   "id": "085797ec",
   "metadata": {},
   "outputs": [],
   "source": [
    "df.to_csv('master_list.csv')"
   ]
  },
  {
   "cell_type": "raw",
   "id": "a50d5a61",
   "metadata": {},
   "source": []
  },
  {
   "cell_type": "code",
   "execution_count": 2,
   "id": "374eecb0",
   "metadata": {},
   "outputs": [
    {
     "data": {
      "text/plain": [
       "59.75"
      ]
     },
     "execution_count": 2,
     "metadata": {},
     "output_type": "execute_result"
    }
   ],
   "source": [
    "\n"
   ]
  },
  {
   "cell_type": "code",
   "execution_count": null,
   "id": "9744dd06",
   "metadata": {},
   "outputs": [],
   "source": []
  }
 ],
 "metadata": {
  "kernelspec": {
   "display_name": "Python 3",
   "language": "python",
   "name": "python3"
  },
  "language_info": {
   "codemirror_mode": {
    "name": "ipython",
    "version": 3
   },
   "file_extension": ".py",
   "mimetype": "text/x-python",
   "name": "python",
   "nbconvert_exporter": "python",
   "pygments_lexer": "ipython3",
   "version": "3.13.2"
  }
 },
 "nbformat": 4,
 "nbformat_minor": 5
}
