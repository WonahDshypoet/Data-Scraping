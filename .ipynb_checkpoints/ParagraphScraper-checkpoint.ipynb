{
 "cells": [
  {
   "cell_type": "code",
   "execution_count": 100,
   "id": "3a368596",
   "metadata": {},
   "outputs": [
    {
     "name": "stdout",
     "output_type": "stream",
     "text": [
      "['I am a Web developer and designer with specialty in Front-end Development and knowledge in Back-end Development. All helping to improve response, drive sales, and boost profitability.']\n",
      "['I am a Web developer and designer with specialty in Front-end Development and knowledge in Back-end Development. All helping to improve response, drive sales, and boost profitability.', 'A new website from the first idea to the successful launch. Together with you I make an appealing design that suits your business. I design using the latest techniques and trends.']\n",
      "['I am a Web developer and designer with specialty in Front-end Development and knowledge in Back-end Development. All helping to improve response, drive sales, and boost profitability.', 'A new website from the first idea to the successful launch. Together with you I make an appealing design that suits your business. I design using the latest techniques and trends.', 'I develop custom websites , keeping them unique, functional and modern. Considering the latest technologies like HTML5, CSS3, javascript and more.']\n",
      "['I am a Web developer and designer with specialty in Front-end Development and knowledge in Back-end Development. All helping to improve response, drive sales, and boost profitability.', 'A new website from the first idea to the successful launch. Together with you I make an appealing design that suits your business. I design using the latest techniques and trends.', 'I develop custom websites , keeping them unique, functional and modern. Considering the latest technologies like HTML5, CSS3, javascript and more.', 'A website must be properly viewed on a wide variety of screens. I make sure that your website is always optimally usable on any device, any operating system and any web browser.']\n",
      "['I am a Web developer and designer with specialty in Front-end Development and knowledge in Back-end Development. All helping to improve response, drive sales, and boost profitability.', 'A new website from the first idea to the successful launch. Together with you I make an appealing design that suits your business. I design using the latest techniques and trends.', 'I develop custom websites , keeping them unique, functional and modern. Considering the latest technologies like HTML5, CSS3, javascript and more.', 'A website must be properly viewed on a wide variety of screens. I make sure that your website is always optimally usable on any device, any operating system and any web browser.', 'Is your website out of date or need some improvement? I can help you update it into a modern, user-friendly and responsive website that will convert more visitors into customers and boost your conversion rate.']\n",
      "['I am a Web developer and designer with specialty in Front-end Development and knowledge in Back-end Development. All helping to improve response, drive sales, and boost profitability.', 'A new website from the first idea to the successful launch. Together with you I make an appealing design that suits your business. I design using the latest techniques and trends.', 'I develop custom websites , keeping them unique, functional and modern. Considering the latest technologies like HTML5, CSS3, javascript and more.', 'A website must be properly viewed on a wide variety of screens. I make sure that your website is always optimally usable on any device, any operating system and any web browser.', 'Is your website out of date or need some improvement? I can help you update it into a modern, user-friendly and responsive website that will convert more visitors into customers and boost your conversion rate.', 'From building your first website to maintaining your existing applications. I provide on-going support and maintenance services to ensure that your website always runs smoothly. I provide honest advice and the best possible support for you to reach your goals.']\n",
      "['I am a Web developer and designer with specialty in Front-end Development and knowledge in Back-end Development. All helping to improve response, drive sales, and boost profitability.', 'A new website from the first idea to the successful launch. Together with you I make an appealing design that suits your business. I design using the latest techniques and trends.', 'I develop custom websites , keeping them unique, functional and modern. Considering the latest technologies like HTML5, CSS3, javascript and more.', 'A website must be properly viewed on a wide variety of screens. I make sure that your website is always optimally usable on any device, any operating system and any web browser.', 'Is your website out of date or need some improvement? I can help you update it into a modern, user-friendly and responsive website that will convert more visitors into customers and boost your conversion rate.', 'From building your first website to maintaining your existing applications. I provide on-going support and maintenance services to ensure that your website always runs smoothly. I provide honest advice and the best possible support for you to reach your goals.', 'In need of a Logo for your business?\\r\\n                        I got you covered.']\n"
     ]
    }
   ],
   "source": [
    "import requests\n",
    "from bs4 import BeautifulSoup\n",
    "import pandas as pd\n",
    "\n",
    "master_list = []\n",
    "\n",
    "def get_paragraph():\n",
    "\n",
    "     html = urlopen(\"file:///C:/Users/hp/Documents/Sound%20recordings/wonah/index.html\")\n",
    "     soup = BeautifulSoup(html, \"html.parser\")\n",
    "     paragraph = soup.findAll('p')#[-2].text.strip()\n",
    "        \n",
    "     for p in paragraph:\n",
    "        master_list.append(p.text.strip())\n",
    "       \n",
    "get_paragraph()\n",
    "\n",
    "df = pd.DataFrame(master_list)\n",
    "df.to_csv('master_list1.csv')"
   ]
  },
  {
   "cell_type": "code",
   "execution_count": 92,
   "id": "559c7ae0",
   "metadata": {
    "scrolled": true
   },
   "outputs": [],
   "source": [
    "import pandas as pd"
   ]
  },
  {
   "cell_type": "code",
   "execution_count": 93,
   "id": "97d6313f",
   "metadata": {},
   "outputs": [],
   "source": [
    "df = pd.DataFrame(master_list)"
   ]
  },
  {
   "cell_type": "code",
   "execution_count": 99,
   "id": "de62ff38",
   "metadata": {},
   "outputs": [],
   "source": [
    "df.to_csv('master_list.csv')"
   ]
  },
  {
   "cell_type": "raw",
   "id": "97c81a20",
   "metadata": {},
   "source": []
  },
  {
   "cell_type": "code",
   "execution_count": null,
   "id": "937df0ae",
   "metadata": {},
   "outputs": [],
   "source": []
  }
 ],
 "metadata": {
  "kernelspec": {
   "display_name": "Python 3 (ipykernel)",
   "language": "python",
   "name": "python3"
  },
  "language_info": {
   "codemirror_mode": {
    "name": "ipython",
    "version": 3
   },
   "file_extension": ".py",
   "mimetype": "text/x-python",
   "name": "python",
   "nbconvert_exporter": "python",
   "pygments_lexer": "ipython3",
   "version": "3.9.7"
  }
 },
 "nbformat": 4,
 "nbformat_minor": 5
}
